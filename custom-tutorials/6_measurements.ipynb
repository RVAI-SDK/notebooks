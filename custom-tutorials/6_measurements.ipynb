{
 "cells": [
  {
   "cell_type": "markdown",
   "metadata": {},
   "source": [
    "# Pipeline measurements\n",
    "\n",
    "At some point you might want to emit measurements or events from your pipeline. While this would be possible via regular cell outputs, it would become messy quite rapidly:\n",
    "* if you want to send multiple measurements you might end up sending nested lists and dicts\n",
    "* some measurements like events should not be triggered on every call which means you often need to send a `None` value or an empty list\n",
    "* the information you want to emit might not be relevant for other cells, so not really that usefull to set it as a cell output\n",
    "* if you create a sink that consumes these measurements, you also need to track down their origin to know what these values mean and to what 'measurement' they correspond\n",
    "\n",
    "All these extra outputs can potentially obscure the 'normal' dataflow from source to sink. Therefore the SDK provides a mechanism to log measurements.\n",
    "* each cell defines the measurements it can emit\n",
    "* measurements can be handled by a separate 'measurement' hook which gives you all the information about the origin\n",
    "\n",
    "We will start with creating the basics for our cell."
   ]
  },
  {
   "cell_type": "code",
   "execution_count": null,
   "metadata": {},
   "outputs": [],
   "source": [
    "!pip install -qqq rvai==0.6.0rc2 pygraphviz"
   ]
  },
  {
   "cell_type": "code",
   "execution_count": null,
   "metadata": {},
   "outputs": [],
   "source": [
    "from dataclasses import dataclass, field\n",
    "from typing import Type\n",
    "from rvai.base.cell import (\n",
    "    Cell,\n",
    "    Inputs,\n",
    "    Outputs,\n",
    "    Parameters,\n",
    "    State,\n",
    "    cell\n",
    ")\n",
    "from rvai.base.pipeline import Pipeline\n",
    "from rvai.types import Integer\n",
    "\n",
    "# Cell\n",
    "@dataclass\n",
    "class MyInputs(Inputs):\n",
    "    dummy: Integer = field(metadata=dict(description=\"Some dummy input\"))\n",
    "\n",
    "\n",
    "@dataclass\n",
    "class MyOutputs(Outputs):\n",
    "    dummy: Integer = field(metadata=dict(description=\"Some dummy output\"))\n",
    "\n",
    "\n",
    "@dataclass\n",
    "class MyParameters(Parameters):\n",
    "    pass\n"
   ]
  },
  {
   "cell_type": "markdown",
   "metadata": {},
   "source": [
    "Now the measurements can be defined. There is a helper function `Measurement.field` that can be used to provide a name and description for the field but will also give you the option to mark a field as 'indexable'. This can be useful information for external tools. For example suppose you want to record all the measurements into an influxdb, you can use these 'indexable' fields as a 'tag' for your measurements."
   ]
  },
  {
   "cell_type": "code",
   "execution_count": null,
   "metadata": {},
   "outputs": [],
   "source": [
    "from rvai.base.data import Measurement\n",
    "from rvai.types import Float, Integer, String\n",
    "\n",
    "@dataclass\n",
    "class Detection(Measurement):\n",
    "    \"\"\"Information about a specific detection.\"\"\"\n",
    "    zone_id: String = Measurement.field(\n",
    "        name=\"Zone\",\n",
    "        description=\"Zone where object was detected\",\n",
    "        options=list(map(String, [\"zone1\", \"zone2\"])),\n",
    "        index=True)\n",
    "    vehicle_type: String = Measurement.field(\n",
    "        name=\"Vehicle type\",\n",
    "        description=\"Type of the vehicle\",\n",
    "        options=list(map(String, [\"car\", \"truck\", \"moto\"])),\n",
    "        index=True\n",
    "    )    \n",
    "    speed: Float = Measurement.field(\n",
    "        name=\"Vehicle speed\",\n",
    "        description=\"Speed of the vehicle\",\n",
    "        default=Float(0.0)\n",
    "    )\n",
    "\n",
    "# although it's better to give a proper name and description to a measurement, it's completely optional\n",
    "@dataclass\n",
    "class Detections(Measurement):\n",
    "    \"\"\"Information about all detections in some zone.\"\"\"\n",
    "    zone_id: String = Measurement.field(index=True)\n",
    "    num_detections: Integer = Measurement.field(default=Integer(0))"
   ]
  },
  {
   "cell_type": "markdown",
   "metadata": {},
   "source": [
    "To let third party tools know which measurement types they can expect, the measurements must be bundled in a `Measurements` dataclass and added as an annotation to the cell class.\n",
    "\n",
    "Finally to emit a measurement, simply use the `Context.log_measurement` method."
   ]
  },
  {
   "cell_type": "code",
   "execution_count": null,
   "metadata": {},
   "outputs": [],
   "source": [
    "import random\n",
    "from collections import defaultdict\n",
    "\n",
    "from rvai.base.data import Measurements\n",
    "from rvai.base.context import Context\n",
    "\n",
    "@dataclass\n",
    "class MyMeasurements(Measurements):\n",
    "    \"\"\"Collection of my measurements.\"\"\"\n",
    "    detection: Type[Detection]\n",
    "    detections: Type[Detections]\n",
    "\n",
    "@cell\n",
    "class MyCell(Cell):\n",
    "\n",
    "    inputs: Type[MyInputs]\n",
    "    outputs: Type[MyOutputs]\n",
    "    parameters: Type[MyParameters]\n",
    "    \n",
    "    measurements: Type[MyMeasurements]\n",
    "    \n",
    "    @classmethod\n",
    "    def call(\n",
    "        cls, context: Context, parameters: MyParameters, inputs: MyInputs,\n",
    "    ) -> MyOutputs:\n",
    "        # run dummy detector\n",
    "        detections = defaultdict(list)\n",
    "        for x in range(random.randint(2, 4)):\n",
    "            detections[random.choice([\"zone1\", \"zone2\"])].append({\n",
    "                \"speed\": random.random() * 100,\n",
    "                \"type\": random.choice([\"car\", \"truck\", \"moto\"]),\n",
    "            })\n",
    "        # log measurements\n",
    "        for zone, zone_detections in detections.items():\n",
    "            for detection in zone_detections:\n",
    "                \n",
    "                context.log_measurement(Detection(\n",
    "                    zone_id=String(zone),\n",
    "                    vehicle_type=String(detection[\"type\"]),\n",
    "                    speed=Float(detection[\"speed\"])))\n",
    "                \n",
    "            context.log_measurement(Detections(\n",
    "                    zone_id=String(zone),\n",
    "                    num_detections=Integer(len(zone_detections))))\n",
    "        \n",
    "        return MyOutputs(inputs.dummy)"
   ]
  },
  {
   "cell_type": "markdown",
   "metadata": {},
   "source": [
    "Since there's only one cell, the easiest way to create a pipeline is to use the `Pipeline.from_cell` constructor that will automatically link the cell inputs and outputs to the pipeline's source and sink."
   ]
  },
  {
   "cell_type": "code",
   "execution_count": null,
   "metadata": {},
   "outputs": [],
   "source": [
    "pipeline = Pipeline.from_cell(cell=MyCell())\n",
    "pipeline.show()"
   ]
  },
  {
   "cell_type": "markdown",
   "metadata": {},
   "source": [
    "Now we need to add a handler for the 'measurement' hook, this one will simply print the results of the measurements:"
   ]
  },
  {
   "cell_type": "code",
   "execution_count": null,
   "metadata": {},
   "outputs": [],
   "source": [
    "from rvai.base.pipeline import CellRef\n",
    "from rvai.base.runtime import ProcessID\n",
    "from rvai.types import Timestamp\n",
    "\n",
    "def handle_measurements(\n",
    "        pid: ProcessID,\n",
    "        pipeline: Pipeline,\n",
    "        cell_ref: CellRef,\n",
    "        measurement: Measurement,\n",
    "        timestamp: Timestamp,\n",
    "    ):\n",
    "        print(f\"=={measurement.name()}==\")\n",
    "        for field_key, field in measurement.items():\n",
    "            index = \"(index)\" if field.index else \"\"\n",
    "            print(f\"--{index}{field.name}: {field.value}\")"
   ]
  },
  {
   "cell_type": "markdown",
   "metadata": {},
   "source": [
    "Next, register the handler and run a few predictions to see the measurements appearing:"
   ]
  },
  {
   "cell_type": "code",
   "execution_count": null,
   "metadata": {},
   "outputs": [],
   "source": [
    "from rvai.base.hooks import Hooks\n",
    "from rvai.base.runtime import Inference, init\n",
    "\n",
    "hooks = Hooks()\n",
    "hooks.on_measurement.append(handle_measurements)\n",
    "\n",
    "rt = init(\"debug\", hooks=hooks)\n",
    "inference = Inference(pipeline=pipeline)\n",
    "\n",
    "proc = rt.start_inference(inference=inference)\n",
    "\n",
    "for x in range(2):\n",
    "    print(f\"FRAME {x}\")\n",
    "    proc.predict(inputs={\"dummy\": Integer(x)}).result()"
   ]
  },
  {
   "cell_type": "markdown",
   "metadata": {},
   "source": [
    "Stop inference process."
   ]
  },
  {
   "cell_type": "code",
   "execution_count": null,
   "metadata": {},
   "outputs": [],
   "source": [
    "proc.stop()"
   ]
  },
  {
   "cell_type": "markdown",
   "metadata": {},
   "source": [
    "And there you have it! This hook could also be implemented to record the measurements to a database or even to trigger some alarm."
   ]
  },
  {
   "cell_type": "code",
   "execution_count": null,
   "metadata": {},
   "outputs": [],
   "source": [
    "rt.stop()"
   ]
  },
  {
   "cell_type": "code",
   "execution_count": null,
   "metadata": {},
   "outputs": [],
   "source": []
  }
 ],
 "metadata": {
  "kernelspec": {
   "display_name": "Python 3",
   "language": "python",
   "name": "python3"
  },
  "language_info": {
   "codemirror_mode": {
    "name": "ipython",
    "version": 3
   },
   "file_extension": ".py",
   "mimetype": "text/x-python",
   "name": "python",
   "nbconvert_exporter": "python",
   "pygments_lexer": "ipython3",
   "version": "3.6.9"
  }
 },
 "nbformat": 4,
 "nbformat_minor": 4
}
